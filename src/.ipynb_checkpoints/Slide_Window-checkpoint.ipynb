{
 "cells": [
  {
   "cell_type": "code",
   "execution_count": 245,
   "metadata": {},
   "outputs": [],
   "source": [
    "import pandas as pd"
   ]
  },
  {
   "cell_type": "code",
   "execution_count": 246,
   "metadata": {
    "scrolled": true
   },
   "outputs": [],
   "source": [
    "df = pd.read_csv('/Users/yuyu/Project/VisClean/dataset/DBConf/gold_from_predict.csv')  "
   ]
  },
  {
   "cell_type": "code",
   "execution_count": 247,
   "metadata": {},
   "outputs": [],
   "source": [
    "data = {\"x_data\": [], \"y_data\": []}\n",
    "data[\"x_data\"] = \\\n",
    "        df.groupby('Venue').sum()[['Citations']].reset_index().sort_values('Citations',\n",
    "                                                                           ascending=False).values.T.tolist()[0]\n",
    "data[\"y_data\"] = \\\n",
    "        df.groupby('Venue').sum()[['Citations']].reset_index().sort_values('Citations',\n",
    "                                                                           ascending=False).values.T.tolist()[1]"
   ]
  },
  {
   "cell_type": "code",
   "execution_count": 248,
   "metadata": {},
   "outputs": [
    {
     "name": "stdout",
     "output_type": "stream",
     "text": [
      "[' Proceedings of the VLDB Endowment', 'SIGMOD Conference', ' ACM SIGMOD Record', ' IEEE Transactions on Knowledge and Data Engineering', ' VLDB', ' ACM Transactions on Database Systems (TODS)', ' ACM sigmod record', ' ACM Sigmod Record', ' The VLDB JournalThe International Journal on Very Large Data Bases', 'Proceedings of the Thirtieth international conference on Very large data bases-Volume 30', 'PVLDB', 'Proceedings of the 32nd international conference on Very large data bases', 'Proceedings of the 33rd international conference on Very large data bases', ' International Conference on Extending Database Technology', 'Data Engineering; 2008. ICDE 2008. IEEE 24th International Conference on', 'Proceedings of the 31st international conference on Very large data bases', 'Proceedings of the 2005 ACM SIGMOD international conference on Management of data', 'Proceedings of the 2008 ACM SIGMOD international conference on Management of data', 'SIGMOD Record', 'ACM Trans. Database Syst.', 'Data Engineering; 2007. ICDE 2007. IEEE 23rd International Conference on', 'Proceedings of the 2004 ACM SIGMOD international conference on Management of data', 'Proceedings of the 2002 ACM SIGMOD international conference on Management of data', ' The VLDB Journal', 'Proceedings of the 2003 ACM SIGMOD international conference on Management of data', 'IEEE Trans. Knowl. Data Eng.', \"Data Engineering; 2006. ICDE'06. Proceedings of the 22nd International Conference on\", ' IEEE transactions on Knowledge and Data Engineering', 'Proceedings of the 2007 ACM SIGMOD international conference on Management of data', 'PODS', ' IEEE transactions on knowledge and data engineering', ' CIDR', 'Proceedings of the 2006 ACM SIGMOD international conference on Management of data', ' Acm Sigmod Record', \"Data Engineering; 2009. ICDE'09. IEEE 25th International Conference on\", 'Proceedings of the 2009 ACM SIGMOD International Conference on Management of data', 'EDBT', 'Data Engineering (ICDE); 2011 IEEE 27th International Conference on', ' IEEE Transactions on Knowledge and data Engineering', 'Proceedings of the 29th international conference on Very large data bases-Volume 29', 'Proceedings of the 2010 ACM SIGMOD International Conference on Management of data', ' IEEE Transactions on knowledge and data engineering', 'Data Engineering; 2005. ICDE 2005. Proceedings. 21st International Conference on', 'Inf. Syst.', ' Proceedings of VLDB', ' Cidr', 'Proceedings of the 2011 ACM SIGMOD International Conference on Management of data', 'Proceedings of the 2012 ACM SIGMOD International Conference on Management of Data', 'Data Engineering (ICDE); 2010 IEEE 26th International Conference on', 'IEEE Transactions on Knowledge and Data Engineering'] [44824.0, 29609.0, 26203.0, 24058.0, 22772.0, 20298.0, 11919.0, 10859.0, 9425.0, 9303.0, 9159.0, 8607.0, 7978.0, 7465.0, 7108.0, 6973.0, 6853.0, 6823.0, 6463.0, 6094.0, 6026.0, 5777.0, 5744.0, 5660.0, 5603.0, 5429.0, 5341.0, 5000.0, 4854.0, 4793.0, 4779.0, 4568.0, 4487.0, 4452.0, 4426.0, 4318.0, 4288.0, 3920.0, 3857.0, 3544.0, 3491.0, 3474.0, 3363.0, 3218.0, 2861.0, 2685.0, 2683.0, 2530.0, 2475.0, 2414.0]\n"
     ]
    }
   ],
   "source": [
    "# 启发式地取前十个进行比较\n",
    "cand_xData = data[\"x_data\"][:50]\n",
    "cand_yData = data[\"y_data\"][:50]\n",
    "\n",
    "print(cand_xData, cand_yData)"
   ]
  },
  {
   "cell_type": "markdown",
   "metadata": {},
   "source": []
  },
  {
   "cell_type": "code",
   "execution_count": 249,
   "metadata": {},
   "outputs": [],
   "source": [
    "def jaccard_similarity(list1, list2):\n",
    "    s1 = set(list1)\n",
    "    s2 = set(list2)\n",
    "    return len(s1.intersection(s2)) / len(s1.union(s2))"
   ]
  },
  {
   "cell_type": "code",
   "execution_count": 260,
   "metadata": {},
   "outputs": [],
   "source": [
    "candset_index = {} # key = (i,j,cand_xData[i],cand_xData[j]) value = res\n",
    "# 在计算similarity的时候，要注意把一些公有的lexicon给去掉，例如'Conference','on','of','International'\n",
    "remove_lexicon = ['proceedings','of','on','international','conference','the','acm','ieee','and']\n",
    "for i in range(len(cand_xData)):\n",
    "    for j in range(i+1,len(cand_xData)):\n",
    "        conf_1 = cand_xData[i].strip().lower().split(' ')\n",
    "        conf_2 = cand_xData[j].strip().lower().split(' ')\n",
    "        conf_1 = [x for x in conf_1 if x != remove_lexicon[0] and x != remove_lexicon[1] and x != remove_lexicon[2]\n",
    "                 and x != remove_lexicon[3] and x!= remove_lexicon[4] and x!= remove_lexicon[5] and \n",
    "                 x != remove_lexicon[6] and x != remove_lexicon[7] and x != remove_lexicon[8]]\n",
    "        sim = jaccard_similarity(conf_1, conf_2)\n",
    "        res = sim*(cand_yData[i]+cand_yData[j]) # compute a weighted score\n",
    "        if res != 0:\n",
    "            candset_index[(i,j),(cand_xData[i],cand_xData[j])] = res\n",
    "#             print (res,' , (',cand_xData[i],',',cand_yData[i],') , (',cand_xData[j],',',cand_yData[j],')')\n",
    "\n",
    "top_groups = sorted(candset_index.items(), key = lambda x:x[1], reverse=True) "
   ]
  },
  {
   "cell_type": "code",
   "execution_count": 256,
   "metadata": {},
   "outputs": [],
   "source": [
    "# from top_group to get grouped bars\n",
    "grouped_bars = [] # [[group1], [group2], [group3]]\n",
    "grouped_bars += [list(top_groups[0][0][0])]\n",
    "\n",
    "group_cnt = 2\n",
    "for i in range(1,len(top_groups)):\n",
    "    # Let Window Size == 12\n",
    "    if group_cnt > 12:\n",
    "        break\n",
    "    ifUpdate = False\n",
    "    for j in range(0,len(grouped_bars)):\n",
    "        if len(set(grouped_bars[j]) & set(top_groups[i][0][0])) != 0:\n",
    "            # Update the group_cnt\n",
    "            if len(set(grouped_bars[j]) & set(top_groups[i][0][0])) > len(grouped_bars[j]) or len(set(grouped_bars[j]) & set(top_groups[i][0][0])) == 1:\n",
    "                 group_cnt += len(set(grouped_bars[j]) & set(top_groups[i][0][0]))\n",
    "            # append value into the same group\n",
    "            update_group = set(grouped_bars[j]) | set(top_groups[i][0][0])\n",
    "            grouped_bars[j] = list(update_group)\n",
    "            ifUpdate = True\n",
    "        if group_cnt > 12:\n",
    "            break\n",
    "    if ifUpdate == False:\n",
    "        # append new value \n",
    "        update_group_cnt = group_cnt + len(list(top_groups[i][0][0]))\n",
    "        if update_group_cnt <= 12 + 2:\n",
    "            grouped_bars += [list(top_groups[i][0][0])]\n",
    "            group_cnt = update_group_cnt\n",
    "        if group_cnt > 12:\n",
    "            break"
   ]
  },
  {
   "cell_type": "code",
   "execution_count": 257,
   "metadata": {},
   "outputs": [
    {
     "data": {
      "text/plain": [
       "[[0, 4], [33, 2, 1, 18, 6, 7], [3, 38, 41, 27, 30]]"
      ]
     },
     "execution_count": 257,
     "metadata": {},
     "output_type": "execute_result"
    }
   ],
   "source": [
    "grouped_bars"
   ]
  },
  {
   "cell_type": "code",
   "execution_count": 261,
   "metadata": {},
   "outputs": [],
   "source": [
    "data[\"x_data\"] = []\n",
    "data[\"y_data\"] = []\n",
    "for i in range(0, len(grouped_bars)):\n",
    "    data[\"x_data\"].append([])\n",
    "    data[\"y_data\"].append([])\n",
    "    for each_value in grouped_bars[i]:\n",
    "        data[\"x_data\"][i] += [cand_xData[each_value]]\n",
    "        data[\"y_data\"][i] += [cand_yData[each_value]]\n"
   ]
  },
  {
   "cell_type": "code",
   "execution_count": 259,
   "metadata": {},
   "outputs": [
    {
     "data": {
      "text/plain": [
       "{'x_data': [[' Proceedings of the VLDB Endowment', ' VLDB'],\n",
       "  [' Acm Sigmod Record',\n",
       "   ' ACM SIGMOD Record',\n",
       "   'SIGMOD Conference',\n",
       "   'SIGMOD Record',\n",
       "   ' ACM sigmod record',\n",
       "   ' ACM Sigmod Record'],\n",
       "  [' IEEE Transactions on Knowledge and Data Engineering',\n",
       "   ' IEEE Transactions on Knowledge and data Engineering',\n",
       "   ' IEEE Transactions on knowledge and data engineering',\n",
       "   ' IEEE transactions on Knowledge and Data Engineering',\n",
       "   ' IEEE transactions on knowledge and data engineering']],\n",
       " 'y_data': [[44824.0, 22772.0],\n",
       "  [4452.0, 26203.0, 29609.0, 6463.0, 11919.0, 10859.0],\n",
       "  [24058.0, 3857.0, 3474.0, 5000.0, 4779.0]]}"
      ]
     },
     "execution_count": 259,
     "metadata": {},
     "output_type": "execute_result"
    }
   ],
   "source": [
    "data"
   ]
  },
  {
   "cell_type": "code",
   "execution_count": null,
   "metadata": {},
   "outputs": [],
   "source": [
    "# Apply the answer from users\n"
   ]
  }
 ],
 "metadata": {
  "kernelspec": {
   "display_name": "Python 3",
   "language": "python",
   "name": "python3"
  },
  "language_info": {
   "codemirror_mode": {
    "name": "ipython",
    "version": 3
   },
   "file_extension": ".py",
   "mimetype": "text/x-python",
   "name": "python",
   "nbconvert_exporter": "python",
   "pygments_lexer": "ipython3",
   "version": "3.6.5"
  }
 },
 "nbformat": 4,
 "nbformat_minor": 2
}
